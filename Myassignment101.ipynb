{
  "metadata": {
    "kernelspec": {
      "name": "python",
      "display_name": "Python (Pyodide)",
      "language": "python"
    },
    "language_info": {
      "codemirror_mode": {
        "name": "python",
        "version": 3
      },
      "file_extension": ".py",
      "mimetype": "text/x-python",
      "name": "python",
      "nbconvert_exporter": "python",
      "pygments_lexer": "ipython3",
      "version": "3.8"
    }
  },
  "nbformat_minor": 4,
  "nbformat": 4,
  "cells": [
    {
      "cell_type": "markdown",
      "source": "                                                                       -My Jupyterlite Notebook-\n",
      "metadata": {}
    },
    {
      "cell_type": "markdown",
      "source": "  introduction\nThis Jupyterlite Notebook is created for my assignment ",
      "metadata": {}
    },
    {
      "cell_type": "markdown",
      "source": "  Data Science Languages\n- Python\n- R\n- Julia\n",
      "metadata": {}
    },
    {
      "cell_type": "markdown",
      "source": "  Data Science Libraries\r\n\r\n1. NumPy\r\n2. Pandas\r\n3. Matplotlib\r\n4. Seaborn\r\n5. Scikit-learn\r\n",
      "metadata": {}
    },
    {
      "cell_type": "markdown",
      "source": "# Data Science Tools\r\n\r\n| Tool          | Description                       |\r\n|---------------|-----------------------------------|\r\n| Jupyter       | Interactive computing environment |\r\n| VS Code       | Integrated Development Environment|\r\n| Docker        | Containerization tool             |\r\n| Git           | Version control system            |\r\n| TensorFlow    | Machine learning library          |\r\n",
      "metadata": {}
    },
    {
      "cell_type": "markdown",
      "source": "# Arithmetic Expression Examples\n\nLet's explore some basic arithmetic expressions using Python.\n",
      "metadata": {}
    },
    {
      "cell_type": "code",
      "source": "# Multiplication\nx = 2 * 3\n\n# Addition\ny = 1 + 2\n\nx, y\n",
      "metadata": {
        "trusted": true
      },
      "outputs": [
        {
          "execution_count": 5,
          "output_type": "execute_result",
          "data": {
            "text/plain": "(6, 3)"
          },
          "metadata": {}
        }
      ],
      "execution_count": 5
    },
    {
      "cell_type": "code",
      "source": "# Convert minutes to hours\nminutes = 120\nhours = minutes / 60\n\nhours\n",
      "metadata": {
        "trusted": true
      },
      "outputs": [
        {
          "execution_count": 4,
          "output_type": "execute_result",
          "data": {
            "text/plain": "2.0"
          },
          "metadata": {}
        }
      ],
      "execution_count": 4
    },
    {
      "cell_type": "markdown",
      "source": "# Objectives\r\n\r\n1. Explore data science languages and libraries.\r\n2. Perform basic arithmetic operations in Python.\r\n3. Understand the concept of converting units.\r\n",
      "metadata": {}
    },
    {
      "cell_type": "markdown",
      "source": "# Name:\n  Phoungeun Phommalangsy",
      "metadata": {}
    },
    {
      "cell_type": "code",
      "source": "",
      "metadata": {
        "trusted": true
      },
      "outputs": [],
      "execution_count": null
    }
  ]
}